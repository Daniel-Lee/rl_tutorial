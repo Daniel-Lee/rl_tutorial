{
 "cells": [
  {
   "cell_type": "markdown",
   "id": "immediate-western",
   "metadata": {},
   "source": [
    "# Make a Grid World"
   ]
  },
  {
   "cell_type": "code",
   "execution_count": 1,
   "id": "conventional-corps",
   "metadata": {},
   "outputs": [
    {
     "name": "stdout",
     "output_type": "stream",
     "text": [
      "Packages loaded.\n"
     ]
    }
   ],
   "source": [
    "import numpy as np\n",
    "import matplotlib.pyplot as plt\n",
    "print (\"Packages loaded.\")"
   ]
  },
  {
   "cell_type": "markdown",
   "id": "demanding-compact",
   "metadata": {},
   "source": [
    "#### Helper functions"
   ]
  },
  {
   "cell_type": "code",
   "execution_count": 2,
   "id": "going-florist",
   "metadata": {},
   "outputs": [
    {
     "name": "stdout",
     "output_type": "stream",
     "text": [
      "Done.\n"
     ]
    }
   ],
   "source": [
    "def visualize_matrix(M,strs='',fontsize=15,cmap='jet',title='Title',\n",
    "                     REMOVE_TICK_LABELS=True):\n",
    "    \"\"\"\n",
    "    Visualize a matrix colors and strings \n",
    "    \"\"\"\n",
    "    from mpl_toolkits.axes_grid1 import make_axes_locatable\n",
    "    n_row,n_col = M.shape[0],M.shape[1]\n",
    "    fig,ax = plt.subplots()\n",
    "    divider = make_axes_locatable(ax)\n",
    "    im = ax.imshow(M,cmap=plt.get_cmap(cmap),extent=(0,n_col,n_row,0),\n",
    "              interpolation='nearest',aspect='equal')\n",
    "    ax.set_xticks(np.arange(0,n_col,1))\n",
    "    ax.set_yticks(np.arange(0,n_row,1))\n",
    "    ax.grid(color='w', linewidth=2)\n",
    "    ax.set_frame_on(False)\n",
    "    x,y = np.meshgrid(np.arange(0,n_col,1.0),np.arange(0,n_row,1.0))\n",
    "    if len(strs) == n_row*n_col:\n",
    "        idx = 0\n",
    "        for x_val,y_val in zip(x.flatten(), y.flatten()):\n",
    "            c = strs[idx]\n",
    "            idx = idx + 1\n",
    "            ax.text(x_val+0.5,y_val+0.5,c,va='center', ha='center',size=fontsize)\n",
    "    cax = divider.append_axes('right', size='5%', pad=0.05)            \n",
    "    fig.colorbar(im, cax=cax, orientation='vertical')\n",
    "    fig.suptitle(title,size=20) \n",
    "    fig.tight_layout()\n",
    "    fig.subplots_adjust(top=0.9)\n",
    "    if REMOVE_TICK_LABELS:\n",
    "        plt.setp(ax.get_xticklabels(),visible=False)\n",
    "        plt.setp(ax.get_yticklabels(),visible=False)\n",
    "    plt.show()\n",
    "print (\"Done.\")"
   ]
  },
  {
   "cell_type": "markdown",
   "id": "bronze-principal",
   "metadata": {},
   "source": [
    "### Make the grid-world environment"
   ]
  },
  {
   "cell_type": "code",
   "execution_count": 3,
   "id": "noble-norman",
   "metadata": {},
   "outputs": [
    {
     "data": {
      "image/png": "[encoded data removed]",
      "text/plain": [
       "<Figure size 432x288 with 2 Axes>"
      ]
     },
     "metadata": {
      "needs_background": "light"
     },
     "output_type": "display_data"
    }
   ],
   "source": [
    "S = np.array([[0,1,2,3],[4,5,6,7],[8,9,10,11]])\n",
    "strs = ['a','b','c','d','e','f','g','h','i','j','k','l']\n",
    "# Visualize state\n",
    "visualize_matrix(S,strs=strs,fontsize=15,title='State')"
   ]
  },
  {
   "cell_type": "code",
   "execution_count": 4,
   "id": "moderate-landscape",
   "metadata": {},
   "outputs": [
    {
     "data": {
      "image/png": "[encoded data removed]",
      "text/plain": [
       "<Figure size 432x288 with 2 Axes>"
      ]
     },
     "metadata": {
      "needs_background": "light"
     },
     "output_type": "display_data"
    }
   ],
   "source": [
    "S = np.array([[0,1,2],[3,4,5],[6,7,8]])\n",
    "strs = ['a','b','c','d','e','f','g','h','i']\n",
    "# Visualize state\n",
    "visualize_matrix(S,strs=strs,fontsize=15,title='State')"
   ]
  },
  {
   "cell_type": "code",
   "execution_count": null,
   "id": "excessive-finger",
   "metadata": {},
   "outputs": [],
   "source": []
  }
 ],
 "metadata": {
  "kernelspec": {
   "display_name": "Python 3",
   "language": "python",
   "name": "python3"
  },
  "language_info": {
   "codemirror_mode": {
    "name": "ipython",
    "version": 3
   },
   "file_extension": ".py",
   "mimetype": "text/x-python",
   "name": "python",
   "nbconvert_exporter": "python",
   "pygments_lexer": "ipython3",
   "version": "3.7.3"
  }
 },
 "nbformat": 4,
 "nbformat_minor": 5
}
